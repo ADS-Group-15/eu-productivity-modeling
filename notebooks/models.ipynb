{
 "cells": [
  {
   "cell_type": "markdown",
   "metadata": {},
   "source": [
    "# Models\n",
    "\n",
    "Build models to see how much each feature contributes to productivity\n",
    "\n",
    "- Models\n",
    "    - LinearRegression\n",
    "    - LGBMRegressor\n",
    "- Features\n",
    "    - Education\n",
    "    - Population\n",
    "    - R&D Expenditure"
   ]
  },
  {
   "cell_type": "code",
   "execution_count": 25,
   "metadata": {},
   "outputs": [],
   "source": [
    "import numpy as np\n",
    "import pandas as pd\n",
    "import matplotlib.pyplot as plt\n",
    "import seaborn as sns\n",
    "from sklearn.preprocessing import StandardScaler"
   ]
  },
  {
   "cell_type": "code",
   "execution_count": 26,
   "metadata": {},
   "outputs": [
    {
     "data": {
      "text/html": [
       "<div>\n",
       "<style scoped>\n",
       "    .dataframe tbody tr th:only-of-type {\n",
       "        vertical-align: middle;\n",
       "    }\n",
       "\n",
       "    .dataframe tbody tr th {\n",
       "        vertical-align: top;\n",
       "    }\n",
       "\n",
       "    .dataframe thead th {\n",
       "        text-align: right;\n",
       "    }\n",
       "</style>\n",
       "<table border=\"1\" class=\"dataframe\">\n",
       "  <thead>\n",
       "    <tr style=\"text-align: right;\">\n",
       "      <th></th>\n",
       "      <th>year</th>\n",
       "      <th>GEO</th>\n",
       "      <th>Compensation of employees per hour worked (Euro)</th>\n",
       "      <th>Compensation per employee (Euro)</th>\n",
       "      <th>education</th>\n",
       "      <th>population</th>\n",
       "      <th>rd_expenditure</th>\n",
       "    </tr>\n",
       "  </thead>\n",
       "  <tbody>\n",
       "    <tr>\n",
       "      <th>0</th>\n",
       "      <td>2010</td>\n",
       "      <td>Belgium</td>\n",
       "      <td>34.3</td>\n",
       "      <td>49054.8</td>\n",
       "      <td>48.457143</td>\n",
       "      <td>10839905</td>\n",
       "      <td>2.06</td>\n",
       "    </tr>\n",
       "    <tr>\n",
       "      <th>1</th>\n",
       "      <td>2011</td>\n",
       "      <td>Belgium</td>\n",
       "      <td>35.1</td>\n",
       "      <td>50593.5</td>\n",
       "      <td>47.857143</td>\n",
       "      <td>11000638</td>\n",
       "      <td>2.17</td>\n",
       "    </tr>\n",
       "    <tr>\n",
       "      <th>2</th>\n",
       "      <td>2012</td>\n",
       "      <td>Belgium</td>\n",
       "      <td>36.2</td>\n",
       "      <td>52178.2</td>\n",
       "      <td>48.242857</td>\n",
       "      <td>11075889</td>\n",
       "      <td>2.28</td>\n",
       "    </tr>\n",
       "    <tr>\n",
       "      <th>3</th>\n",
       "      <td>2013</td>\n",
       "      <td>Belgium</td>\n",
       "      <td>37.2</td>\n",
       "      <td>53452.5</td>\n",
       "      <td>49.242857</td>\n",
       "      <td>11137974</td>\n",
       "      <td>2.33</td>\n",
       "    </tr>\n",
       "    <tr>\n",
       "      <th>4</th>\n",
       "      <td>2014</td>\n",
       "      <td>Belgium</td>\n",
       "      <td>37.6</td>\n",
       "      <td>53965.2</td>\n",
       "      <td>50.285714</td>\n",
       "      <td>11180840</td>\n",
       "      <td>2.37</td>\n",
       "    </tr>\n",
       "  </tbody>\n",
       "</table>\n",
       "</div>"
      ],
      "text/plain": [
       "   year      GEO  Compensation of employees per hour worked (Euro)  \\\n",
       "0  2010  Belgium                                              34.3   \n",
       "1  2011  Belgium                                              35.1   \n",
       "2  2012  Belgium                                              36.2   \n",
       "3  2013  Belgium                                              37.2   \n",
       "4  2014  Belgium                                              37.6   \n",
       "\n",
       "   Compensation per employee (Euro)  education  population  rd_expenditure  \n",
       "0                           49054.8  48.457143    10839905            2.06  \n",
       "1                           50593.5  47.857143    11000638            2.17  \n",
       "2                           52178.2  48.242857    11075889            2.28  \n",
       "3                           53452.5  49.242857    11137974            2.33  \n",
       "4                           53965.2  50.285714    11180840            2.37  "
      ]
     },
     "execution_count": 26,
     "metadata": {},
     "output_type": "execute_result"
    }
   ],
   "source": [
    "df = pd.read_csv('../data/interim/dataset.csv')\n",
    "df.head()"
   ]
  },
  {
   "cell_type": "markdown",
   "metadata": {},
   "source": [
    "## Scale Features"
   ]
  },
  {
   "cell_type": "code",
   "execution_count": 27,
   "metadata": {},
   "outputs": [
    {
     "data": {
      "text/html": [
       "<div>\n",
       "<style scoped>\n",
       "    .dataframe tbody tr th:only-of-type {\n",
       "        vertical-align: middle;\n",
       "    }\n",
       "\n",
       "    .dataframe tbody tr th {\n",
       "        vertical-align: top;\n",
       "    }\n",
       "\n",
       "    .dataframe thead th {\n",
       "        text-align: right;\n",
       "    }\n",
       "</style>\n",
       "<table border=\"1\" class=\"dataframe\">\n",
       "  <thead>\n",
       "    <tr style=\"text-align: right;\">\n",
       "      <th></th>\n",
       "      <th>per_hour_worked</th>\n",
       "      <th>per_employee</th>\n",
       "      <th>education</th>\n",
       "      <th>population</th>\n",
       "      <th>rd_expenditure</th>\n",
       "    </tr>\n",
       "  </thead>\n",
       "  <tbody>\n",
       "    <tr>\n",
       "      <th>per_hour_worked</th>\n",
       "      <td>1.000000</td>\n",
       "      <td>0.990948</td>\n",
       "      <td>0.307323</td>\n",
       "      <td>0.112138</td>\n",
       "      <td>0.580168</td>\n",
       "    </tr>\n",
       "    <tr>\n",
       "      <th>per_employee</th>\n",
       "      <td>0.990948</td>\n",
       "      <td>1.000000</td>\n",
       "      <td>0.260538</td>\n",
       "      <td>0.084187</td>\n",
       "      <td>0.552179</td>\n",
       "    </tr>\n",
       "    <tr>\n",
       "      <th>education</th>\n",
       "      <td>0.307323</td>\n",
       "      <td>0.260538</td>\n",
       "      <td>1.000000</td>\n",
       "      <td>-0.058253</td>\n",
       "      <td>0.443450</td>\n",
       "    </tr>\n",
       "    <tr>\n",
       "      <th>population</th>\n",
       "      <td>0.112138</td>\n",
       "      <td>0.084187</td>\n",
       "      <td>-0.058253</td>\n",
       "      <td>1.000000</td>\n",
       "      <td>0.164592</td>\n",
       "    </tr>\n",
       "    <tr>\n",
       "      <th>rd_expenditure</th>\n",
       "      <td>0.580168</td>\n",
       "      <td>0.552179</td>\n",
       "      <td>0.443450</td>\n",
       "      <td>0.164592</td>\n",
       "      <td>1.000000</td>\n",
       "    </tr>\n",
       "  </tbody>\n",
       "</table>\n",
       "</div>"
      ],
      "text/plain": [
       "                 per_hour_worked  per_employee  education  population  \\\n",
       "per_hour_worked         1.000000      0.990948   0.307323    0.112138   \n",
       "per_employee            0.990948      1.000000   0.260538    0.084187   \n",
       "education               0.307323      0.260538   1.000000   -0.058253   \n",
       "population              0.112138      0.084187  -0.058253    1.000000   \n",
       "rd_expenditure          0.580168      0.552179   0.443450    0.164592   \n",
       "\n",
       "                 rd_expenditure  \n",
       "per_hour_worked        0.580168  \n",
       "per_employee           0.552179  \n",
       "education              0.443450  \n",
       "population             0.164592  \n",
       "rd_expenditure         1.000000  "
      ]
     },
     "execution_count": 27,
     "metadata": {},
     "output_type": "execute_result"
    }
   ],
   "source": [
    "scaler = StandardScaler()\n",
    "df['per_hour_worked'] = scaler.fit_transform(df[['Compensation of employees per hour worked (Euro)']])\n",
    "df['per_employee'] = scaler.fit_transform(df[['Compensation per employee (Euro)']])\n",
    "df['education'] = scaler.fit_transform(df[['education']])\n",
    "df['population'] = scaler.fit_transform(df[['population']])\n",
    "df['rd_expenditure'] = scaler.fit_transform(df[['rd_expenditure']])\n",
    "df = df.dropna()\n",
    "df[['per_hour_worked', 'per_employee', 'education', 'population', 'rd_expenditure']].corr()"
   ]
  },
  {
   "cell_type": "markdown",
   "metadata": {},
   "source": [
    "## Train LinearRegression Model\n",
    "\n",
    "- Simple\n",
    "- Lagged"
   ]
  },
  {
   "cell_type": "code",
   "execution_count": 4,
   "metadata": {},
   "outputs": [
    {
     "data": {
      "text/plain": [
       "<matplotlib.axes._subplots.AxesSubplot at 0x11eb29d50>"
      ]
     },
     "execution_count": 4,
     "metadata": {},
     "output_type": "execute_result"
    },
    {
     "data": {
      "image/png": "[encoded data removed]",
      "text/plain": [
       "<Figure size 432x288 with 1 Axes>"
      ]
     },
     "metadata": {
      "needs_background": "light"
     },
     "output_type": "display_data"
    }
   ],
   "source": [
    "from sklearn.linear_model import LinearRegression\n",
    "from sklearn.model_selection import KFold\n",
    "from sklearn.metrics import mean_squared_error\n",
    "\n",
    "def train(features):\n",
    "    x = df[features]\n",
    "    y = df[['per_hour_worked']]\n",
    "    score_on_train = []\n",
    "    score_on_test = []\n",
    "    kfold = KFold(n_splits=2, shuffle=True, random_state=42)\n",
    "    for train_index, test_index in kfold.split(x):\n",
    "        x_train, x_test = x.iloc[train_index], x.iloc[test_index]\n",
    "        y_train, y_test = y.iloc[train_index], y.iloc[test_index]\n",
    "        model = LinearRegression()\n",
    "        model.fit(x_train, y_train)\n",
    "        score_on_train.append(mean_squared_error(y_train, model.predict(x_train)))\n",
    "        score_on_test.append(mean_squared_error(y_test, model.predict(x_test)))\n",
    "\n",
    "    return np.mean(score_on_test)\n",
    "\n",
    "features = [\n",
    "    ['education'],\n",
    "    ['population'],\n",
    "    ['rd_expenditure'],\n",
    "    ['education', 'population', 'rd_expenditure']\n",
    "]\n",
    "scores = [train(f) for f in features]\n",
    "result = pd.DataFrame({\n",
    "    'features': [' '.join(f) for f in features],\n",
    "    'score': scores\n",
    "}).sort_values(by='score')\n",
    "sns.barplot(data=result, x='score', y='features')"
   ]
  },
  {
   "cell_type": "code",
   "execution_count": 46,
   "metadata": {},
   "outputs": [
    {
     "name": "stdout",
     "output_type": "stream",
     "text": [
      "['education', 'education_lag_1', 'education_lag_2', 'education_lag_3', 'per_hour_worked', 'per_hour_worked_lag_1', 'per_hour_worked_lag_2', 'per_hour_worked_lag_3', 'population', 'population_lag_1', 'population_lag_2', 'population_lag_3', 'rd_expenditure', 'rd_expenditure_lag_1', 'rd_expenditure_lag_2', 'rd_expenditure_lag_3']\n",
      "[[-4.99600361e-16  6.89739722e-17  2.49385214e-16  1.52240699e-16\n",
      "   2.50000000e-01  2.50000000e-01  2.50000000e-01  2.50000000e-01\n",
      "   3.72300129e-15  3.72300129e-15  3.72300129e-15  3.72300129e-15\n",
      "  -1.47710462e-16 -1.47710462e-16 -1.47710462e-16 -1.47710462e-16]]\n"
     ]
    },
    {
     "data": {
      "text/plain": [
       "<matplotlib.axes._subplots.AxesSubplot at 0x125b67fd0>"
      ]
     },
     "execution_count": 46,
     "metadata": {},
     "output_type": "execute_result"
    },
    {
     "data": {
      "image/png": "[encoded data removed]",
      "text/plain": [
       "<Figure size 432x288 with 1 Axes>"
      ]
     },
     "metadata": {
      "needs_background": "light"
     },
     "output_type": "display_data"
    }
   ],
   "source": [
    "def add_lagged_features(df, index_columns=['year', 'GEO']):\n",
    "    columns_to_rename = list(df.columns.difference(index_columns))\n",
    "    shift_range = [1, 2, 3]\n",
    "    for year_shift in shift_range:\n",
    "        train_shift = df[index_columns + columns_to_rename].copy()\n",
    "        columns = lambda x: f'{x}_lag_{year_shift}' if x in columns_to_rename else x\n",
    "        train_shift.rename(columns=columns, inplace=True)\n",
    "        df = df.merge(train_shift, on=['year', 'GEO'], how='left').fillna(0)\n",
    "    df = df[df['year'] >= 2013]\n",
    "    return df\n",
    "\n",
    "data = add_lagged_features(df[[\n",
    "    'year', 'GEO', 'per_hour_worked', 'education', 'population', 'rd_expenditure'\n",
    "]]).head()\n",
    "\n",
    "features = list(data.columns.difference(['year', 'GEO']))\n",
    "x = data[features]\n",
    "y = data[['per_hour_worked']]\n",
    "\n",
    "model = LinearRegression()\n",
    "model.fit(x, y)\n",
    "\n",
    "print(features)\n",
    "print(model.coef_)\n",
    "\n",
    "result = pd.DataFrame({\n",
    "    'feature': features,\n",
    "    'coef': model.coef_[0]\n",
    "}).sort_values(by=['coef'], ascending=False)\n",
    "sns.barplot(data=result, y='feature', x='coef')"
   ]
  },
  {
   "cell_type": "markdown",
   "metadata": {},
   "source": [
    "## Visualize Feature Importance"
   ]
  },
  {
   "cell_type": "code",
   "execution_count": 5,
   "metadata": {},
   "outputs": [
    {
     "name": "stdout",
     "output_type": "stream",
     "text": [
      "['education', 'population', 'rd_expenditure']\n",
      "[[0.06637092 0.02533453 0.55678467]]\n"
     ]
    },
    {
     "data": {
      "text/plain": [
       "<matplotlib.axes._subplots.AxesSubplot at 0x122ee0b50>"
      ]
     },
     "execution_count": 5,
     "metadata": {},
     "output_type": "execute_result"
    },
    {
     "data": {
      "image/png": "[encoded data removed]",
      "text/plain": [
       "<Figure size 432x288 with 1 Axes>"
      ]
     },
     "metadata": {
      "needs_background": "light"
     },
     "output_type": "display_data"
    }
   ],
   "source": [
    "features = ['education', 'population', 'rd_expenditure']\n",
    "x = df[features]\n",
    "y = df[['per_hour_worked']]\n",
    "\n",
    "model = LinearRegression()\n",
    "model.fit(x, y)\n",
    "\n",
    "print(features)\n",
    "print(model.coef_)\n",
    "\n",
    "result = pd.DataFrame({\n",
    "    'feature': features,\n",
    "    'coef': model.coef_[0]\n",
    "}).sort_values(by=['coef'], ascending=False)\n",
    "sns.barplot(data=result, y='feature', x='coef')"
   ]
  }
 ],
 "metadata": {
  "kernelspec": {
   "display_name": "Python 3",
   "language": "python",
   "name": "python3"
  },
  "language_info": {
   "codemirror_mode": {
    "name": "ipython",
    "version": 3
   },
   "file_extension": ".py",
   "mimetype": "text/x-python",
   "name": "python",
   "nbconvert_exporter": "python",
   "pygments_lexer": "ipython3",
   "version": "3.7.5"
  }
 },
 "nbformat": 4,
 "nbformat_minor": 4
}
