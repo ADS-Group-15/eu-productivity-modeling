{
 "cells": [
  {
   "cell_type": "code",
   "execution_count": 1,
   "metadata": {},
   "outputs": [],
   "source": [
    "import pandas as pd\n",
    "from sklearn.preprocessing import StandardScaler"
   ]
  },
  {
   "cell_type": "code",
   "execution_count": 2,
   "metadata": {},
   "outputs": [
    {
     "data": {
      "text/html": [
       "<div>\n",
       "<style scoped>\n",
       "    .dataframe tbody tr th:only-of-type {\n",
       "        vertical-align: middle;\n",
       "    }\n",
       "\n",
       "    .dataframe tbody tr th {\n",
       "        vertical-align: top;\n",
       "    }\n",
       "\n",
       "    .dataframe thead th {\n",
       "        text-align: right;\n",
       "    }\n",
       "</style>\n",
       "<table border=\"1\" class=\"dataframe\">\n",
       "  <thead>\n",
       "    <tr style=\"text-align: right;\">\n",
       "      <th></th>\n",
       "      <th>year</th>\n",
       "      <th>GEO</th>\n",
       "      <th>Compensation of employees per hour worked (Euro)</th>\n",
       "      <th>Compensation per employee (Euro)</th>\n",
       "      <th>education</th>\n",
       "    </tr>\n",
       "  </thead>\n",
       "  <tbody>\n",
       "    <tr>\n",
       "      <th>0</th>\n",
       "      <td>2010</td>\n",
       "      <td>Belgium</td>\n",
       "      <td>34.3</td>\n",
       "      <td>49054.8</td>\n",
       "      <td>48.457143</td>\n",
       "    </tr>\n",
       "    <tr>\n",
       "      <th>1</th>\n",
       "      <td>2011</td>\n",
       "      <td>Belgium</td>\n",
       "      <td>35.1</td>\n",
       "      <td>50593.5</td>\n",
       "      <td>47.857143</td>\n",
       "    </tr>\n",
       "    <tr>\n",
       "      <th>2</th>\n",
       "      <td>2012</td>\n",
       "      <td>Belgium</td>\n",
       "      <td>36.2</td>\n",
       "      <td>52178.2</td>\n",
       "      <td>48.242857</td>\n",
       "    </tr>\n",
       "    <tr>\n",
       "      <th>3</th>\n",
       "      <td>2013</td>\n",
       "      <td>Belgium</td>\n",
       "      <td>37.2</td>\n",
       "      <td>53452.5</td>\n",
       "      <td>49.242857</td>\n",
       "    </tr>\n",
       "    <tr>\n",
       "      <th>4</th>\n",
       "      <td>2014</td>\n",
       "      <td>Belgium</td>\n",
       "      <td>37.6</td>\n",
       "      <td>53965.2</td>\n",
       "      <td>50.285714</td>\n",
       "    </tr>\n",
       "  </tbody>\n",
       "</table>\n",
       "</div>"
      ],
      "text/plain": [
       "   year      GEO  Compensation of employees per hour worked (Euro)  \\\n",
       "0  2010  Belgium                                              34.3   \n",
       "1  2011  Belgium                                              35.1   \n",
       "2  2012  Belgium                                              36.2   \n",
       "3  2013  Belgium                                              37.2   \n",
       "4  2014  Belgium                                              37.6   \n",
       "\n",
       "   Compensation per employee (Euro)  education  \n",
       "0                           49054.8  48.457143  \n",
       "1                           50593.5  47.857143  \n",
       "2                           52178.2  48.242857  \n",
       "3                           53452.5  49.242857  \n",
       "4                           53965.2  50.285714  "
      ]
     },
     "execution_count": 2,
     "metadata": {},
     "output_type": "execute_result"
    }
   ],
   "source": [
    "df = pd.read_csv('../data/interim/dataset.csv')\n",
    "df.head()"
   ]
  },
  {
   "cell_type": "code",
   "execution_count": 3,
   "metadata": {},
   "outputs": [
    {
     "data": {
      "text/html": [
       "<div>\n",
       "<style scoped>\n",
       "    .dataframe tbody tr th:only-of-type {\n",
       "        vertical-align: middle;\n",
       "    }\n",
       "\n",
       "    .dataframe tbody tr th {\n",
       "        vertical-align: top;\n",
       "    }\n",
       "\n",
       "    .dataframe thead th {\n",
       "        text-align: right;\n",
       "    }\n",
       "</style>\n",
       "<table border=\"1\" class=\"dataframe\">\n",
       "  <thead>\n",
       "    <tr style=\"text-align: right;\">\n",
       "      <th></th>\n",
       "      <th>per_hour_worked</th>\n",
       "      <th>per_employee</th>\n",
       "      <th>education</th>\n",
       "    </tr>\n",
       "  </thead>\n",
       "  <tbody>\n",
       "    <tr>\n",
       "      <th>per_hour_worked</th>\n",
       "      <td>1.000000</td>\n",
       "      <td>0.990948</td>\n",
       "      <td>0.307323</td>\n",
       "    </tr>\n",
       "    <tr>\n",
       "      <th>per_employee</th>\n",
       "      <td>0.990948</td>\n",
       "      <td>1.000000</td>\n",
       "      <td>0.306327</td>\n",
       "    </tr>\n",
       "    <tr>\n",
       "      <th>education</th>\n",
       "      <td>0.307323</td>\n",
       "      <td>0.306327</td>\n",
       "      <td>1.000000</td>\n",
       "    </tr>\n",
       "  </tbody>\n",
       "</table>\n",
       "</div>"
      ],
      "text/plain": [
       "                 per_hour_worked  per_employee  education\n",
       "per_hour_worked         1.000000      0.990948   0.307323\n",
       "per_employee            0.990948      1.000000   0.306327\n",
       "education               0.307323      0.306327   1.000000"
      ]
     },
     "execution_count": 3,
     "metadata": {},
     "output_type": "execute_result"
    }
   ],
   "source": [
    "scaler = StandardScaler()\n",
    "df['per_hour_worked'] = scaler.fit_transform(df[['Compensation of employees per hour worked (Euro)']])\n",
    "df['per_employee'] = scaler.fit_transform(df[['Compensation per employee (Euro)']])\n",
    "df['education'] = scaler.fit_transform(df[['education']])\n",
    "df[['per_hour_worked', 'per_employee', 'education']].corr()"
   ]
  },
  {
   "cell_type": "code",
   "execution_count": 4,
   "metadata": {},
   "outputs": [
    {
     "name": "stdout",
     "output_type": "stream",
     "text": [
      "0.8659725434212218\n",
      "1.0425766113267894\n",
      "[[0.27039428]]\n"
     ]
    }
   ],
   "source": [
    "from sklearn.linear_model import LinearRegression\n",
    "from sklearn.model_selection import train_test_split\n",
    "from sklearn.metrics import mean_squared_error\n",
    "\n",
    "data = df.dropna()\n",
    "x = data[['education']]\n",
    "y = data[['per_hour_worked']]\n",
    "x_train, x_test, y_train, y_test = train_test_split(x, y)\n",
    "\n",
    "model = LinearRegression()\n",
    "model.fit(x_train, y_train)\n",
    "print(mean_squared_error(y_train, model.predict(x_train)))\n",
    "print(mean_squared_error(y_test, model.predict(x_test)))\n",
    "print(model.coef_)"
   ]
  },
  {
   "cell_type": "code",
   "execution_count": null,
   "metadata": {},
   "outputs": [],
   "source": []
  }
 ],
 "metadata": {
  "kernelspec": {
   "display_name": "Python 3",
   "language": "python",
   "name": "python3"
  },
  "language_info": {
   "codemirror_mode": {
    "name": "ipython",
    "version": 3
   },
   "file_extension": ".py",
   "mimetype": "text/x-python",
   "name": "python",
   "nbconvert_exporter": "python",
   "pygments_lexer": "ipython3",
   "version": "3.7.5"
  }
 },
 "nbformat": 4,
 "nbformat_minor": 4
}
