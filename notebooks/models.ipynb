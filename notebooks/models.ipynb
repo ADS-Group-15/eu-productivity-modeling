{
 "cells": [
  {
   "cell_type": "markdown",
   "metadata": {},
   "source": [
    "# Models\n",
    "\n",
    "Build models to see how much each feature contributes to productivity\n",
    "\n",
    "- Models\n",
    "    - LinearRegression\n",
    "    - ExplainableBoostingRegressor\n",
    "- Features\n",
    "    - Education\n",
    "    - Population\n",
    "    - R&D Expenditure"
   ]
  },
  {
   "cell_type": "code",
   "execution_count": 1,
   "metadata": {},
   "outputs": [],
   "source": [
    "import numpy as np\n",
    "import pandas as pd\n",
    "import matplotlib.pyplot as plt\n",
    "import seaborn as sns\n",
    "from sklearn.preprocessing import StandardScaler"
   ]
  },
  {
   "cell_type": "code",
   "execution_count": 2,
   "metadata": {},
   "outputs": [
    {
     "data": {
      "text/html": [
       "<div>\n",
       "<style scoped>\n",
       "    .dataframe tbody tr th:only-of-type {\n",
       "        vertical-align: middle;\n",
       "    }\n",
       "\n",
       "    .dataframe tbody tr th {\n",
       "        vertical-align: top;\n",
       "    }\n",
       "\n",
       "    .dataframe thead th {\n",
       "        text-align: right;\n",
       "    }\n",
       "</style>\n",
       "<table border=\"1\" class=\"dataframe\">\n",
       "  <thead>\n",
       "    <tr style=\"text-align: right;\">\n",
       "      <th></th>\n",
       "      <th>year</th>\n",
       "      <th>GEO</th>\n",
       "      <th>Compensation of employees per hour worked (Euro)</th>\n",
       "      <th>Compensation per employee (Euro)</th>\n",
       "      <th>education</th>\n",
       "      <th>population</th>\n",
       "      <th>rd_expenditure</th>\n",
       "    </tr>\n",
       "  </thead>\n",
       "  <tbody>\n",
       "    <tr>\n",
       "      <th>0</th>\n",
       "      <td>2010</td>\n",
       "      <td>Belgium</td>\n",
       "      <td>34.3</td>\n",
       "      <td>49054.8</td>\n",
       "      <td>48.457143</td>\n",
       "      <td>10839905</td>\n",
       "      <td>2.06</td>\n",
       "    </tr>\n",
       "    <tr>\n",
       "      <th>1</th>\n",
       "      <td>2011</td>\n",
       "      <td>Belgium</td>\n",
       "      <td>35.1</td>\n",
       "      <td>50593.5</td>\n",
       "      <td>47.857143</td>\n",
       "      <td>11000638</td>\n",
       "      <td>2.17</td>\n",
       "    </tr>\n",
       "    <tr>\n",
       "      <th>2</th>\n",
       "      <td>2012</td>\n",
       "      <td>Belgium</td>\n",
       "      <td>36.2</td>\n",
       "      <td>52178.2</td>\n",
       "      <td>48.242857</td>\n",
       "      <td>11075889</td>\n",
       "      <td>2.28</td>\n",
       "    </tr>\n",
       "    <tr>\n",
       "      <th>3</th>\n",
       "      <td>2013</td>\n",
       "      <td>Belgium</td>\n",
       "      <td>37.2</td>\n",
       "      <td>53452.5</td>\n",
       "      <td>49.242857</td>\n",
       "      <td>11137974</td>\n",
       "      <td>2.33</td>\n",
       "    </tr>\n",
       "    <tr>\n",
       "      <th>4</th>\n",
       "      <td>2014</td>\n",
       "      <td>Belgium</td>\n",
       "      <td>37.6</td>\n",
       "      <td>53965.2</td>\n",
       "      <td>50.285714</td>\n",
       "      <td>11180840</td>\n",
       "      <td>2.37</td>\n",
       "    </tr>\n",
       "  </tbody>\n",
       "</table>\n",
       "</div>"
      ],
      "text/plain": [
       "   year      GEO  Compensation of employees per hour worked (Euro)  \\\n",
       "0  2010  Belgium                                              34.3   \n",
       "1  2011  Belgium                                              35.1   \n",
       "2  2012  Belgium                                              36.2   \n",
       "3  2013  Belgium                                              37.2   \n",
       "4  2014  Belgium                                              37.6   \n",
       "\n",
       "   Compensation per employee (Euro)  education  population  rd_expenditure  \n",
       "0                           49054.8  48.457143    10839905            2.06  \n",
       "1                           50593.5  47.857143    11000638            2.17  \n",
       "2                           52178.2  48.242857    11075889            2.28  \n",
       "3                           53452.5  49.242857    11137974            2.33  \n",
       "4                           53965.2  50.285714    11180840            2.37  "
      ]
     },
     "execution_count": 2,
     "metadata": {},
     "output_type": "execute_result"
    }
   ],
   "source": [
    "df = pd.read_csv('../data/interim/dataset.csv')\n",
    "df.head()"
   ]
  },
  {
   "cell_type": "markdown",
   "metadata": {},
   "source": [
    "## Scale Features"
   ]
  },
  {
   "cell_type": "code",
   "execution_count": 3,
   "metadata": {},
   "outputs": [
    {
     "data": {
      "text/html": [
       "<div>\n",
       "<style scoped>\n",
       "    .dataframe tbody tr th:only-of-type {\n",
       "        vertical-align: middle;\n",
       "    }\n",
       "\n",
       "    .dataframe tbody tr th {\n",
       "        vertical-align: top;\n",
       "    }\n",
       "\n",
       "    .dataframe thead th {\n",
       "        text-align: right;\n",
       "    }\n",
       "</style>\n",
       "<table border=\"1\" class=\"dataframe\">\n",
       "  <thead>\n",
       "    <tr style=\"text-align: right;\">\n",
       "      <th></th>\n",
       "      <th>per_hour_worked</th>\n",
       "      <th>per_employee</th>\n",
       "      <th>education</th>\n",
       "      <th>population</th>\n",
       "      <th>rd_expenditure</th>\n",
       "    </tr>\n",
       "  </thead>\n",
       "  <tbody>\n",
       "    <tr>\n",
       "      <th>per_hour_worked</th>\n",
       "      <td>1.000000</td>\n",
       "      <td>0.990948</td>\n",
       "      <td>0.307323</td>\n",
       "      <td>0.112138</td>\n",
       "      <td>0.580168</td>\n",
       "    </tr>\n",
       "    <tr>\n",
       "      <th>per_employee</th>\n",
       "      <td>0.990948</td>\n",
       "      <td>1.000000</td>\n",
       "      <td>0.306327</td>\n",
       "      <td>0.107771</td>\n",
       "      <td>0.575635</td>\n",
       "    </tr>\n",
       "    <tr>\n",
       "      <th>education</th>\n",
       "      <td>0.307323</td>\n",
       "      <td>0.306327</td>\n",
       "      <td>1.000000</td>\n",
       "      <td>-0.011982</td>\n",
       "      <td>0.480950</td>\n",
       "    </tr>\n",
       "    <tr>\n",
       "      <th>population</th>\n",
       "      <td>0.112138</td>\n",
       "      <td>0.107771</td>\n",
       "      <td>-0.011982</td>\n",
       "      <td>1.000000</td>\n",
       "      <td>0.214731</td>\n",
       "    </tr>\n",
       "    <tr>\n",
       "      <th>rd_expenditure</th>\n",
       "      <td>0.580168</td>\n",
       "      <td>0.575635</td>\n",
       "      <td>0.480950</td>\n",
       "      <td>0.214731</td>\n",
       "      <td>1.000000</td>\n",
       "    </tr>\n",
       "  </tbody>\n",
       "</table>\n",
       "</div>"
      ],
      "text/plain": [
       "                 per_hour_worked  per_employee  education  population  \\\n",
       "per_hour_worked         1.000000      0.990948   0.307323    0.112138   \n",
       "per_employee            0.990948      1.000000   0.306327    0.107771   \n",
       "education               0.307323      0.306327   1.000000   -0.011982   \n",
       "population              0.112138      0.107771  -0.011982    1.000000   \n",
       "rd_expenditure          0.580168      0.575635   0.480950    0.214731   \n",
       "\n",
       "                 rd_expenditure  \n",
       "per_hour_worked        0.580168  \n",
       "per_employee           0.575635  \n",
       "education              0.480950  \n",
       "population             0.214731  \n",
       "rd_expenditure         1.000000  "
      ]
     },
     "execution_count": 3,
     "metadata": {},
     "output_type": "execute_result"
    }
   ],
   "source": [
    "scaler = StandardScaler()\n",
    "df['per_hour_worked'] = scaler.fit_transform(df[['Compensation of employees per hour worked (Euro)']])\n",
    "df['per_employee'] = scaler.fit_transform(df[['Compensation per employee (Euro)']])\n",
    "df['education'] = scaler.fit_transform(df[['education']])\n",
    "df['population'] = scaler.fit_transform(df[['population']])\n",
    "df['rd_expenditure'] = scaler.fit_transform(df[['rd_expenditure']])\n",
    "df[['per_hour_worked', 'per_employee', 'education', 'population', 'rd_expenditure']].corr()"
   ]
  },
  {
   "cell_type": "markdown",
   "metadata": {},
   "source": [
    "## Capturing Trends\n",
    "\n",
    "There are several ways to capture trends.\n",
    "\n",
    "- Move data to n years (`shift`)\n",
    "- Take the mean of n years\n",
    "- ..."
   ]
  },
  {
   "cell_type": "code",
   "execution_count": 4,
   "metadata": {},
   "outputs": [
    {
     "data": {
      "text/html": [
       "<div>\n",
       "<style scoped>\n",
       "    .dataframe tbody tr th:only-of-type {\n",
       "        vertical-align: middle;\n",
       "    }\n",
       "\n",
       "    .dataframe tbody tr th {\n",
       "        vertical-align: top;\n",
       "    }\n",
       "\n",
       "    .dataframe thead th {\n",
       "        text-align: right;\n",
       "    }\n",
       "</style>\n",
       "<table border=\"1\" class=\"dataframe\">\n",
       "  <thead>\n",
       "    <tr style=\"text-align: right;\">\n",
       "      <th></th>\n",
       "      <th>year</th>\n",
       "      <th>GEO</th>\n",
       "      <th>Compensation of employees per hour worked (Euro)</th>\n",
       "      <th>Compensation per employee (Euro)</th>\n",
       "      <th>education</th>\n",
       "      <th>population</th>\n",
       "      <th>rd_expenditure</th>\n",
       "      <th>per_hour_worked</th>\n",
       "      <th>per_employee</th>\n",
       "      <th>education_shift_1</th>\n",
       "      <th>population_shift_1</th>\n",
       "      <th>rd_expenditure_shift_1</th>\n",
       "    </tr>\n",
       "  </thead>\n",
       "  <tbody>\n",
       "    <tr>\n",
       "      <th>1</th>\n",
       "      <td>2011</td>\n",
       "      <td>Belgium</td>\n",
       "      <td>35.1</td>\n",
       "      <td>50593.5</td>\n",
       "      <td>-0.988163</td>\n",
       "      <td>-0.213463</td>\n",
       "      <td>0.755741</td>\n",
       "      <td>1.056851</td>\n",
       "      <td>0.985691</td>\n",
       "      <td>-0.918085</td>\n",
       "      <td>-0.220912</td>\n",
       "      <td>0.630114</td>\n",
       "    </tr>\n",
       "    <tr>\n",
       "      <th>2</th>\n",
       "      <td>2012</td>\n",
       "      <td>Belgium</td>\n",
       "      <td>36.2</td>\n",
       "      <td>52178.2</td>\n",
       "      <td>-0.943113</td>\n",
       "      <td>-0.209975</td>\n",
       "      <td>0.881368</td>\n",
       "      <td>1.139885</td>\n",
       "      <td>1.070517</td>\n",
       "      <td>-0.988163</td>\n",
       "      <td>-0.213463</td>\n",
       "      <td>0.755741</td>\n",
       "    </tr>\n",
       "    <tr>\n",
       "      <th>3</th>\n",
       "      <td>2013</td>\n",
       "      <td>Belgium</td>\n",
       "      <td>37.2</td>\n",
       "      <td>53452.5</td>\n",
       "      <td>-0.826317</td>\n",
       "      <td>-0.207098</td>\n",
       "      <td>0.938471</td>\n",
       "      <td>1.215371</td>\n",
       "      <td>1.138727</td>\n",
       "      <td>-0.943113</td>\n",
       "      <td>-0.209975</td>\n",
       "      <td>0.881368</td>\n",
       "    </tr>\n",
       "    <tr>\n",
       "      <th>4</th>\n",
       "      <td>2014</td>\n",
       "      <td>Belgium</td>\n",
       "      <td>37.6</td>\n",
       "      <td>53965.2</td>\n",
       "      <td>-0.704515</td>\n",
       "      <td>-0.205111</td>\n",
       "      <td>0.984154</td>\n",
       "      <td>1.245565</td>\n",
       "      <td>1.166171</td>\n",
       "      <td>-0.826317</td>\n",
       "      <td>-0.207098</td>\n",
       "      <td>0.938471</td>\n",
       "    </tr>\n",
       "    <tr>\n",
       "      <th>5</th>\n",
       "      <td>2015</td>\n",
       "      <td>Belgium</td>\n",
       "      <td>37.8</td>\n",
       "      <td>54043.8</td>\n",
       "      <td>-0.834660</td>\n",
       "      <td>-0.202496</td>\n",
       "      <td>1.052678</td>\n",
       "      <td>1.260662</td>\n",
       "      <td>1.170378</td>\n",
       "      <td>-0.704515</td>\n",
       "      <td>-0.205111</td>\n",
       "      <td>0.984154</td>\n",
       "    </tr>\n",
       "  </tbody>\n",
       "</table>\n",
       "</div>"
      ],
      "text/plain": [
       "   year      GEO  Compensation of employees per hour worked (Euro)  \\\n",
       "1  2011  Belgium                                              35.1   \n",
       "2  2012  Belgium                                              36.2   \n",
       "3  2013  Belgium                                              37.2   \n",
       "4  2014  Belgium                                              37.6   \n",
       "5  2015  Belgium                                              37.8   \n",
       "\n",
       "   Compensation per employee (Euro)  education  population  rd_expenditure  \\\n",
       "1                           50593.5  -0.988163   -0.213463        0.755741   \n",
       "2                           52178.2  -0.943113   -0.209975        0.881368   \n",
       "3                           53452.5  -0.826317   -0.207098        0.938471   \n",
       "4                           53965.2  -0.704515   -0.205111        0.984154   \n",
       "5                           54043.8  -0.834660   -0.202496        1.052678   \n",
       "\n",
       "   per_hour_worked  per_employee  education_shift_1  population_shift_1  \\\n",
       "1         1.056851      0.985691          -0.918085           -0.220912   \n",
       "2         1.139885      1.070517          -0.988163           -0.213463   \n",
       "3         1.215371      1.138727          -0.943113           -0.209975   \n",
       "4         1.245565      1.166171          -0.826317           -0.207098   \n",
       "5         1.260662      1.170378          -0.704515           -0.205111   \n",
       "\n",
       "   rd_expenditure_shift_1  \n",
       "1                0.630114  \n",
       "2                0.755741  \n",
       "3                0.881368  \n",
       "4                0.938471  \n",
       "5                0.984154  "
      ]
     },
     "execution_count": 4,
     "metadata": {},
     "output_type": "execute_result"
    }
   ],
   "source": [
    "features = ['education', 'population', 'rd_expenditure']\n",
    "shift_range = [1]\n",
    "for feature in features:\n",
    "    for shift in shift_range:\n",
    "        df[f'{feature}_shift_{shift}'] = df.sort_values('year').groupby(['GEO'])[feature].shift(shift)\n",
    "        \n",
    "df = df[df['year'] > 2010]\n",
    "df = df.dropna()\n",
    "\n",
    "df.head()"
   ]
  },
  {
   "cell_type": "markdown",
   "metadata": {},
   "source": [
    "## LinearRegression\n",
    "\n",
    "$$\n",
    "y = \\beta_0 + \\sum_{i=1}^{n} \\beta_i x_i\n",
    "$$"
   ]
  },
  {
   "cell_type": "code",
   "execution_count": 5,
   "metadata": {},
   "outputs": [
    {
     "data": {
      "text/plain": [
       "<matplotlib.axes._subplots.AxesSubplot at 0x12a278350>"
      ]
     },
     "execution_count": 5,
     "metadata": {},
     "output_type": "execute_result"
    },
    {
     "data": {
      "image/png": "[encoded data removed]",
      "text/plain": [
       "<Figure size 432x288 with 1 Axes>"
      ]
     },
     "metadata": {
      "needs_background": "light"
     },
     "output_type": "display_data"
    }
   ],
   "source": [
    "from sklearn.linear_model import LinearRegression\n",
    "from sklearn.model_selection import KFold\n",
    "from sklearn.metrics import mean_squared_error\n",
    "\n",
    "def train(features):\n",
    "    x = df[features]\n",
    "    y = df[['per_hour_worked']]\n",
    "    score_on_train = []\n",
    "    score_on_test = []\n",
    "    kfold = KFold(n_splits=5, shuffle=True, random_state=42)\n",
    "    for train_index, test_index in kfold.split(x):\n",
    "        x_train, x_test = x.iloc[train_index], x.iloc[test_index]\n",
    "        y_train, y_test = y.iloc[train_index], y.iloc[test_index]\n",
    "        model = LinearRegression()\n",
    "        model.fit(x_train, y_train)\n",
    "        score_on_train.append(mean_squared_error(y_train, model.predict(x_train)))\n",
    "        score_on_test.append(mean_squared_error(y_test, model.predict(x_test)))\n",
    "\n",
    "    return np.mean(score_on_test)\n",
    "\n",
    "features = [\n",
    "    ['education_shift_1'],\n",
    "    ['population_shift_1'],\n",
    "    ['rd_expenditure_shift_1'],\n",
    "    ['education_shift_1', 'population_shift_1', 'rd_expenditure_shift_1']\n",
    "]\n",
    "scores = [train(f) for f in features]\n",
    "result = pd.DataFrame({\n",
    "    'features': [' '.join(f) for f in features],\n",
    "    'score': scores\n",
    "}).sort_values(by='score')\n",
    "sns.barplot(data=result, x='score', y='features')"
   ]
  },
  {
   "cell_type": "markdown",
   "metadata": {},
   "source": [
    "## Visualize Feature Importance"
   ]
  },
  {
   "cell_type": "code",
   "execution_count": 6,
   "metadata": {},
   "outputs": [
    {
     "name": "stdout",
     "output_type": "stream",
     "text": [
      "['education_shift_1', 'population_shift_1', 'rd_expenditure_shift_1']\n",
      "[[0.05741559 0.0249344  0.56837448]]\n"
     ]
    },
    {
     "data": {
      "text/plain": [
       "<matplotlib.axes._subplots.AxesSubplot at 0x12a3b9810>"
      ]
     },
     "execution_count": 6,
     "metadata": {},
     "output_type": "execute_result"
    },
    {
     "data": {
      "image/png": "[encoded data removed]",
      "text/plain": [
       "<Figure size 432x288 with 1 Axes>"
      ]
     },
     "metadata": {
      "needs_background": "light"
     },
     "output_type": "display_data"
    }
   ],
   "source": [
    "features = ['education_shift_1', 'population_shift_1', 'rd_expenditure_shift_1']\n",
    "x = df[features]\n",
    "y = df[['per_hour_worked']]\n",
    "\n",
    "model = LinearRegression()\n",
    "model.fit(x, y)\n",
    "\n",
    "print(features)\n",
    "print(model.coef_)\n",
    "\n",
    "result = pd.DataFrame({\n",
    "    'feature': features,\n",
    "    'coef': model.coef_[0]\n",
    "}).sort_values(by=['coef'], ascending=False)\n",
    "sns.barplot(data=result, y='feature', x='coef')"
   ]
  },
  {
   "cell_type": "markdown",
   "metadata": {},
   "source": [
    "## ExplainableBoostingRegressor (from InterpretML)\n",
    "\n",
    "EBM is a generalized additive model formalized as follows.\n",
    "\n",
    "$$\n",
    "g(E[y]) = \\beta_0 + \\sum f_j(x_j) + \\sum f_{ij}(x_i,x_j)\n",
    "$$\n",
    "\n",
    "EBM learns the best feature function $f_j$ for each feature to show how each feature contributes to the model's prediction for the problem. EBM can also automatically detect and include pairwise interaction terms.\n",
    "\n",
    "Paper: https://arxiv.org/pdf/1909.09223.pdf\n",
    "\n",
    "### Global Explanation"
   ]
  },
  {
   "cell_type": "code",
   "execution_count": 7,
   "metadata": {},
   "outputs": [
    {
     "data": {
      "text/html": [
       "<!-- http://127.0.0.1:7997/5003776976/ -->\n",
       "<iframe src=\"http://127.0.0.1:7997/5003776976/\" width=100% height=800 frameBorder=\"0\"></iframe>"
      ]
     },
     "metadata": {},
     "output_type": "display_data"
    }
   ],
   "source": [
    "from sklearn.model_selection import train_test_split\n",
    "import interpret\n",
    "from interpret.glassbox import ExplainableBoostingRegressor\n",
    "\n",
    "x_train, x_test, y_train, y_test = train_test_split(x, y, random_state=42)\n",
    "\n",
    "ebm = ExplainableBoostingRegressor(random_state=42)\n",
    "ebm.fit(x_train, y_train)\n",
    "\n",
    "ebm_global = ebm.explain_global(name='EBM')\n",
    "interpret.show(ebm_global)"
   ]
  },
  {
   "cell_type": "markdown",
   "metadata": {},
   "source": [
    "### Local Explanation"
   ]
  },
  {
   "cell_type": "code",
   "execution_count": 8,
   "metadata": {},
   "outputs": [
    {
     "data": {
      "text/html": [
       "<!-- http://127.0.0.1:7997/5045279632/ -->\n",
       "<iframe src=\"http://127.0.0.1:7997/5045279632/\" width=100% height=800 frameBorder=\"0\"></iframe>"
      ]
     },
     "metadata": {},
     "output_type": "display_data"
    }
   ],
   "source": [
    "ebm_local = ebm.explain_local(x_test[:5], y_test[:5], name='EBM')\n",
    "interpret.show(ebm_local)"
   ]
  },
  {
   "cell_type": "code",
   "execution_count": 9,
   "metadata": {},
   "outputs": [
    {
     "data": {
      "text/html": [
       "<!-- http://127.0.0.1:7997/5068892816/ -->\n",
       "<iframe src=\"http://127.0.0.1:7997/5068892816/\" width=100% height=800 frameBorder=\"0\"></iframe>"
      ]
     },
     "metadata": {},
     "output_type": "display_data"
    }
   ],
   "source": [
    "from interpret.glassbox import LinearRegression\n",
    "from interpret.perf import RegressionPerf\n",
    "\n",
    "ebm_perf = RegressionPerf(ebm.predict).explain_perf(x_test, y_test, name='Linear Regression')\n",
    "interpret.show(ebm_perf)"
   ]
  },
  {
   "cell_type": "code",
   "execution_count": null,
   "metadata": {},
   "outputs": [],
   "source": []
  }
 ],
 "metadata": {
  "kernelspec": {
   "display_name": "Python 3",
   "language": "python",
   "name": "python3"
  },
  "language_info": {
   "codemirror_mode": {
    "name": "ipython",
    "version": 3
   },
   "file_extension": ".py",
   "mimetype": "text/x-python",
   "name": "python",
   "nbconvert_exporter": "python",
   "pygments_lexer": "ipython3",
   "version": "3.7.5"
  }
 },
 "nbformat": 4,
 "nbformat_minor": 4
}
