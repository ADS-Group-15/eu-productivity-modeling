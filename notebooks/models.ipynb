{
 "cells": [
  {
   "cell_type": "markdown",
   "metadata": {},
   "source": [
    "# Models\n",
    "\n",
    "Build models to see how much each feature contributes to productivity\n",
    "\n",
    "- Models\n",
    "    - LinearRegression\n",
    "    - ExplainableBoostingRegressor\n",
    "- Features\n",
    "    - Education\n",
    "    - Population\n",
    "    - R&D Expenditure"
   ]
  },
  {
   "cell_type": "code",
   "execution_count": 12,
   "metadata": {},
   "outputs": [],
   "source": [
    "import numpy as np\n",
    "import pandas as pd\n",
    "import matplotlib.pyplot as plt\n",
    "import seaborn as sns\n",
    "from sklearn.preprocessing import StandardScaler\n",
    "\n",
    "import matplotlib.pyplot as plt\n",
    "import seaborn as sns"
   ]
  },
  {
   "cell_type": "code",
   "execution_count": 13,
   "metadata": {},
   "outputs": [
    {
     "data": {
      "text/html": [
       "<div>\n",
       "<style scoped>\n",
       "    .dataframe tbody tr th:only-of-type {\n",
       "        vertical-align: middle;\n",
       "    }\n",
       "\n",
       "    .dataframe tbody tr th {\n",
       "        vertical-align: top;\n",
       "    }\n",
       "\n",
       "    .dataframe thead th {\n",
       "        text-align: right;\n",
       "    }\n",
       "</style>\n",
       "<table border=\"1\" class=\"dataframe\">\n",
       "  <thead>\n",
       "    <tr style=\"text-align: right;\">\n",
       "      <th></th>\n",
       "      <th>year</th>\n",
       "      <th>GEO</th>\n",
       "      <th>Compensation of employees per hour worked (Euro)</th>\n",
       "      <th>Compensation per employee (Euro)</th>\n",
       "      <th>education</th>\n",
       "      <th>population</th>\n",
       "      <th>rd_expenditure</th>\n",
       "    </tr>\n",
       "  </thead>\n",
       "  <tbody>\n",
       "    <tr>\n",
       "      <th>0</th>\n",
       "      <td>2010</td>\n",
       "      <td>Belgium</td>\n",
       "      <td>34.3</td>\n",
       "      <td>49054.8</td>\n",
       "      <td>48.457143</td>\n",
       "      <td>10839905</td>\n",
       "      <td>2.06</td>\n",
       "    </tr>\n",
       "    <tr>\n",
       "      <th>1</th>\n",
       "      <td>2011</td>\n",
       "      <td>Belgium</td>\n",
       "      <td>35.1</td>\n",
       "      <td>50593.5</td>\n",
       "      <td>47.857143</td>\n",
       "      <td>11000638</td>\n",
       "      <td>2.17</td>\n",
       "    </tr>\n",
       "    <tr>\n",
       "      <th>2</th>\n",
       "      <td>2012</td>\n",
       "      <td>Belgium</td>\n",
       "      <td>36.2</td>\n",
       "      <td>52178.2</td>\n",
       "      <td>48.242857</td>\n",
       "      <td>11075889</td>\n",
       "      <td>2.28</td>\n",
       "    </tr>\n",
       "    <tr>\n",
       "      <th>3</th>\n",
       "      <td>2013</td>\n",
       "      <td>Belgium</td>\n",
       "      <td>37.2</td>\n",
       "      <td>53452.5</td>\n",
       "      <td>49.242857</td>\n",
       "      <td>11137974</td>\n",
       "      <td>2.33</td>\n",
       "    </tr>\n",
       "    <tr>\n",
       "      <th>4</th>\n",
       "      <td>2014</td>\n",
       "      <td>Belgium</td>\n",
       "      <td>37.6</td>\n",
       "      <td>53965.2</td>\n",
       "      <td>50.285714</td>\n",
       "      <td>11180840</td>\n",
       "      <td>2.37</td>\n",
       "    </tr>\n",
       "  </tbody>\n",
       "</table>\n",
       "</div>"
      ],
      "text/plain": [
       "   year      GEO  Compensation of employees per hour worked (Euro)  \\\n",
       "0  2010  Belgium                                              34.3   \n",
       "1  2011  Belgium                                              35.1   \n",
       "2  2012  Belgium                                              36.2   \n",
       "3  2013  Belgium                                              37.2   \n",
       "4  2014  Belgium                                              37.6   \n",
       "\n",
       "   Compensation per employee (Euro)  education  population  rd_expenditure  \n",
       "0                           49054.8  48.457143    10839905            2.06  \n",
       "1                           50593.5  47.857143    11000638            2.17  \n",
       "2                           52178.2  48.242857    11075889            2.28  \n",
       "3                           53452.5  49.242857    11137974            2.33  \n",
       "4                           53965.2  50.285714    11180840            2.37  "
      ]
     },
     "execution_count": 13,
     "metadata": {},
     "output_type": "execute_result"
    }
   ],
   "source": [
    "df = pd.read_csv('../data/interim/dataset.csv')\n",
    "df.head()"
   ]
  },
  {
   "cell_type": "code",
   "execution_count": 14,
   "metadata": {},
   "outputs": [
    {
     "data": {
      "text/html": [
       "<div>\n",
       "<style scoped>\n",
       "    .dataframe tbody tr th:only-of-type {\n",
       "        vertical-align: middle;\n",
       "    }\n",
       "\n",
       "    .dataframe tbody tr th {\n",
       "        vertical-align: top;\n",
       "    }\n",
       "\n",
       "    .dataframe thead th {\n",
       "        text-align: right;\n",
       "    }\n",
       "</style>\n",
       "<table border=\"1\" class=\"dataframe\">\n",
       "  <thead>\n",
       "    <tr style=\"text-align: right;\">\n",
       "      <th></th>\n",
       "      <th>year</th>\n",
       "      <th>GEO</th>\n",
       "      <th>per_hour_worked</th>\n",
       "      <th>per_employee</th>\n",
       "      <th>education</th>\n",
       "      <th>population</th>\n",
       "      <th>rd_expenditure</th>\n",
       "    </tr>\n",
       "  </thead>\n",
       "  <tbody>\n",
       "    <tr>\n",
       "      <th>0</th>\n",
       "      <td>2010</td>\n",
       "      <td>Belgium</td>\n",
       "      <td>34.3</td>\n",
       "      <td>49054.8</td>\n",
       "      <td>48.457143</td>\n",
       "      <td>10839905</td>\n",
       "      <td>2.06</td>\n",
       "    </tr>\n",
       "    <tr>\n",
       "      <th>1</th>\n",
       "      <td>2011</td>\n",
       "      <td>Belgium</td>\n",
       "      <td>35.1</td>\n",
       "      <td>50593.5</td>\n",
       "      <td>47.857143</td>\n",
       "      <td>11000638</td>\n",
       "      <td>2.17</td>\n",
       "    </tr>\n",
       "    <tr>\n",
       "      <th>2</th>\n",
       "      <td>2012</td>\n",
       "      <td>Belgium</td>\n",
       "      <td>36.2</td>\n",
       "      <td>52178.2</td>\n",
       "      <td>48.242857</td>\n",
       "      <td>11075889</td>\n",
       "      <td>2.28</td>\n",
       "    </tr>\n",
       "    <tr>\n",
       "      <th>3</th>\n",
       "      <td>2013</td>\n",
       "      <td>Belgium</td>\n",
       "      <td>37.2</td>\n",
       "      <td>53452.5</td>\n",
       "      <td>49.242857</td>\n",
       "      <td>11137974</td>\n",
       "      <td>2.33</td>\n",
       "    </tr>\n",
       "    <tr>\n",
       "      <th>4</th>\n",
       "      <td>2014</td>\n",
       "      <td>Belgium</td>\n",
       "      <td>37.6</td>\n",
       "      <td>53965.2</td>\n",
       "      <td>50.285714</td>\n",
       "      <td>11180840</td>\n",
       "      <td>2.37</td>\n",
       "    </tr>\n",
       "  </tbody>\n",
       "</table>\n",
       "</div>"
      ],
      "text/plain": [
       "   year      GEO  per_hour_worked  per_employee  education  population  \\\n",
       "0  2010  Belgium             34.3       49054.8  48.457143    10839905   \n",
       "1  2011  Belgium             35.1       50593.5  47.857143    11000638   \n",
       "2  2012  Belgium             36.2       52178.2  48.242857    11075889   \n",
       "3  2013  Belgium             37.2       53452.5  49.242857    11137974   \n",
       "4  2014  Belgium             37.6       53965.2  50.285714    11180840   \n",
       "\n",
       "   rd_expenditure  \n",
       "0            2.06  \n",
       "1            2.17  \n",
       "2            2.28  \n",
       "3            2.33  \n",
       "4            2.37  "
      ]
     },
     "metadata": {},
     "output_type": "display_data"
    }
   ],
   "source": [
    "df.rename(columns={\n",
    "    'Compensation of employees per hour worked (Euro)': 'per_hour_worked',\n",
    "    'Compensation per employee (Euro)': 'per_employee'\n",
    "}, inplace=True)\n",
    "display(df.head())\n",
    "\n",
    "features = ['education', 'population', 'rd_expenditure']"
   ]
  },
  {
   "cell_type": "markdown",
   "metadata": {},
   "source": [
    "## Capturing Trends\n",
    "\n",
    "There are several ways to capture trends.\n",
    "\n",
    "- Move data to n years (`shift`)\n",
    "- Take the mean of n years\n",
    "- ..."
   ]
  },
  {
   "cell_type": "code",
   "execution_count": 15,
   "metadata": {},
   "outputs": [
    {
     "data": {
      "text/html": [
       "<div>\n",
       "<style scoped>\n",
       "    .dataframe tbody tr th:only-of-type {\n",
       "        vertical-align: middle;\n",
       "    }\n",
       "\n",
       "    .dataframe tbody tr th {\n",
       "        vertical-align: top;\n",
       "    }\n",
       "\n",
       "    .dataframe thead th {\n",
       "        text-align: right;\n",
       "    }\n",
       "</style>\n",
       "<table border=\"1\" class=\"dataframe\">\n",
       "  <thead>\n",
       "    <tr style=\"text-align: right;\">\n",
       "      <th></th>\n",
       "      <th>year</th>\n",
       "      <th>GEO</th>\n",
       "      <th>per_hour_worked</th>\n",
       "      <th>per_employee</th>\n",
       "      <th>education</th>\n",
       "      <th>population</th>\n",
       "      <th>rd_expenditure</th>\n",
       "      <th>education_shift_1</th>\n",
       "      <th>education_diff_1</th>\n",
       "      <th>population_shift_1</th>\n",
       "      <th>population_diff_1</th>\n",
       "      <th>rd_expenditure_shift_1</th>\n",
       "      <th>rd_expenditure_diff_1</th>\n",
       "    </tr>\n",
       "  </thead>\n",
       "  <tbody>\n",
       "    <tr>\n",
       "      <th>1</th>\n",
       "      <td>2011</td>\n",
       "      <td>Belgium</td>\n",
       "      <td>35.1</td>\n",
       "      <td>50593.5</td>\n",
       "      <td>47.857143</td>\n",
       "      <td>11000638</td>\n",
       "      <td>2.17</td>\n",
       "      <td>48.457143</td>\n",
       "      <td>0.600000</td>\n",
       "      <td>10839905.0</td>\n",
       "      <td>-160733.0</td>\n",
       "      <td>2.06</td>\n",
       "      <td>-0.11</td>\n",
       "    </tr>\n",
       "    <tr>\n",
       "      <th>2</th>\n",
       "      <td>2012</td>\n",
       "      <td>Belgium</td>\n",
       "      <td>36.2</td>\n",
       "      <td>52178.2</td>\n",
       "      <td>48.242857</td>\n",
       "      <td>11075889</td>\n",
       "      <td>2.28</td>\n",
       "      <td>47.857143</td>\n",
       "      <td>-0.385714</td>\n",
       "      <td>11000638.0</td>\n",
       "      <td>-75251.0</td>\n",
       "      <td>2.17</td>\n",
       "      <td>-0.11</td>\n",
       "    </tr>\n",
       "    <tr>\n",
       "      <th>3</th>\n",
       "      <td>2013</td>\n",
       "      <td>Belgium</td>\n",
       "      <td>37.2</td>\n",
       "      <td>53452.5</td>\n",
       "      <td>49.242857</td>\n",
       "      <td>11137974</td>\n",
       "      <td>2.33</td>\n",
       "      <td>48.242857</td>\n",
       "      <td>-1.000000</td>\n",
       "      <td>11075889.0</td>\n",
       "      <td>-62085.0</td>\n",
       "      <td>2.28</td>\n",
       "      <td>-0.05</td>\n",
       "    </tr>\n",
       "    <tr>\n",
       "      <th>4</th>\n",
       "      <td>2014</td>\n",
       "      <td>Belgium</td>\n",
       "      <td>37.6</td>\n",
       "      <td>53965.2</td>\n",
       "      <td>50.285714</td>\n",
       "      <td>11180840</td>\n",
       "      <td>2.37</td>\n",
       "      <td>49.242857</td>\n",
       "      <td>-1.042857</td>\n",
       "      <td>11137974.0</td>\n",
       "      <td>-42866.0</td>\n",
       "      <td>2.33</td>\n",
       "      <td>-0.04</td>\n",
       "    </tr>\n",
       "    <tr>\n",
       "      <th>5</th>\n",
       "      <td>2015</td>\n",
       "      <td>Belgium</td>\n",
       "      <td>37.8</td>\n",
       "      <td>54043.8</td>\n",
       "      <td>49.171429</td>\n",
       "      <td>11237274</td>\n",
       "      <td>2.43</td>\n",
       "      <td>50.285714</td>\n",
       "      <td>1.114286</td>\n",
       "      <td>11180840.0</td>\n",
       "      <td>-56434.0</td>\n",
       "      <td>2.37</td>\n",
       "      <td>-0.06</td>\n",
       "    </tr>\n",
       "  </tbody>\n",
       "</table>\n",
       "</div>"
      ],
      "text/plain": [
       "   year      GEO  per_hour_worked  per_employee  education  population  \\\n",
       "1  2011  Belgium             35.1       50593.5  47.857143    11000638   \n",
       "2  2012  Belgium             36.2       52178.2  48.242857    11075889   \n",
       "3  2013  Belgium             37.2       53452.5  49.242857    11137974   \n",
       "4  2014  Belgium             37.6       53965.2  50.285714    11180840   \n",
       "5  2015  Belgium             37.8       54043.8  49.171429    11237274   \n",
       "\n",
       "   rd_expenditure  education_shift_1  education_diff_1  population_shift_1  \\\n",
       "1            2.17          48.457143          0.600000          10839905.0   \n",
       "2            2.28          47.857143         -0.385714          11000638.0   \n",
       "3            2.33          48.242857         -1.000000          11075889.0   \n",
       "4            2.37          49.242857         -1.042857          11137974.0   \n",
       "5            2.43          50.285714          1.114286          11180840.0   \n",
       "\n",
       "   population_diff_1  rd_expenditure_shift_1  rd_expenditure_diff_1  \n",
       "1          -160733.0                    2.06                  -0.11  \n",
       "2           -75251.0                    2.17                  -0.11  \n",
       "3           -62085.0                    2.28                  -0.05  \n",
       "4           -42866.0                    2.33                  -0.04  \n",
       "5           -56434.0                    2.37                  -0.06  "
      ]
     },
     "execution_count": 15,
     "metadata": {},
     "output_type": "execute_result"
    }
   ],
   "source": [
    "shift_range = [1]\n",
    "for feature in features:\n",
    "    for shift in shift_range:\n",
    "        df[f'{feature}_shift_{shift}'] = df.sort_values('year').groupby(['GEO'])[feature].shift(shift)\n",
    "        df[f'{feature}_diff_{shift}'] = df[f'{feature}_shift_{shift}'] - df[feature]\n",
    "        \n",
    "df = df[df['year'] >= 2011]\n",
    "\n",
    "df.head()"
   ]
  },
  {
   "cell_type": "markdown",
   "metadata": {},
   "source": [
    "## Aggregation "
   ]
  },
  {
   "cell_type": "code",
   "execution_count": 16,
   "metadata": {},
   "outputs": [
    {
     "data": {
      "text/html": [
       "<div>\n",
       "<style scoped>\n",
       "    .dataframe tbody tr th:only-of-type {\n",
       "        vertical-align: middle;\n",
       "    }\n",
       "\n",
       "    .dataframe tbody tr th {\n",
       "        vertical-align: top;\n",
       "    }\n",
       "\n",
       "    .dataframe thead th {\n",
       "        text-align: right;\n",
       "    }\n",
       "</style>\n",
       "<table border=\"1\" class=\"dataframe\">\n",
       "  <thead>\n",
       "    <tr style=\"text-align: right;\">\n",
       "      <th></th>\n",
       "      <th>year</th>\n",
       "      <th>GEO</th>\n",
       "      <th>per_hour_worked</th>\n",
       "      <th>per_employee</th>\n",
       "      <th>education</th>\n",
       "      <th>population</th>\n",
       "      <th>rd_expenditure</th>\n",
       "      <th>education_shift_1</th>\n",
       "      <th>education_diff_1</th>\n",
       "      <th>population_shift_1</th>\n",
       "      <th>population_diff_1</th>\n",
       "      <th>rd_expenditure_shift_1</th>\n",
       "      <th>rd_expenditure_diff_1</th>\n",
       "      <th>education_mean</th>\n",
       "      <th>population_mean</th>\n",
       "      <th>rd_expenditure_mean</th>\n",
       "    </tr>\n",
       "  </thead>\n",
       "  <tbody>\n",
       "    <tr>\n",
       "      <th>1</th>\n",
       "      <td>2011</td>\n",
       "      <td>Belgium</td>\n",
       "      <td>35.1</td>\n",
       "      <td>50593.5</td>\n",
       "      <td>47.857143</td>\n",
       "      <td>11000638</td>\n",
       "      <td>2.17</td>\n",
       "      <td>48.457143</td>\n",
       "      <td>0.600000</td>\n",
       "      <td>10839905.0</td>\n",
       "      <td>-160733.0</td>\n",
       "      <td>2.06</td>\n",
       "      <td>-0.11</td>\n",
       "      <td>51.072321</td>\n",
       "      <td>11211756.0</td>\n",
       "      <td>2.44</td>\n",
       "    </tr>\n",
       "    <tr>\n",
       "      <th>2</th>\n",
       "      <td>2012</td>\n",
       "      <td>Belgium</td>\n",
       "      <td>36.2</td>\n",
       "      <td>52178.2</td>\n",
       "      <td>48.242857</td>\n",
       "      <td>11075889</td>\n",
       "      <td>2.28</td>\n",
       "      <td>47.857143</td>\n",
       "      <td>-0.385714</td>\n",
       "      <td>11000638.0</td>\n",
       "      <td>-75251.0</td>\n",
       "      <td>2.17</td>\n",
       "      <td>-0.11</td>\n",
       "      <td>51.072321</td>\n",
       "      <td>11211756.0</td>\n",
       "      <td>2.44</td>\n",
       "    </tr>\n",
       "    <tr>\n",
       "      <th>3</th>\n",
       "      <td>2013</td>\n",
       "      <td>Belgium</td>\n",
       "      <td>37.2</td>\n",
       "      <td>53452.5</td>\n",
       "      <td>49.242857</td>\n",
       "      <td>11137974</td>\n",
       "      <td>2.33</td>\n",
       "      <td>48.242857</td>\n",
       "      <td>-1.000000</td>\n",
       "      <td>11075889.0</td>\n",
       "      <td>-62085.0</td>\n",
       "      <td>2.28</td>\n",
       "      <td>-0.05</td>\n",
       "      <td>51.072321</td>\n",
       "      <td>11211756.0</td>\n",
       "      <td>2.44</td>\n",
       "    </tr>\n",
       "    <tr>\n",
       "      <th>4</th>\n",
       "      <td>2014</td>\n",
       "      <td>Belgium</td>\n",
       "      <td>37.6</td>\n",
       "      <td>53965.2</td>\n",
       "      <td>50.285714</td>\n",
       "      <td>11180840</td>\n",
       "      <td>2.37</td>\n",
       "      <td>49.242857</td>\n",
       "      <td>-1.042857</td>\n",
       "      <td>11137974.0</td>\n",
       "      <td>-42866.0</td>\n",
       "      <td>2.33</td>\n",
       "      <td>-0.04</td>\n",
       "      <td>51.072321</td>\n",
       "      <td>11211756.0</td>\n",
       "      <td>2.44</td>\n",
       "    </tr>\n",
       "    <tr>\n",
       "      <th>5</th>\n",
       "      <td>2015</td>\n",
       "      <td>Belgium</td>\n",
       "      <td>37.8</td>\n",
       "      <td>54043.8</td>\n",
       "      <td>49.171429</td>\n",
       "      <td>11237274</td>\n",
       "      <td>2.43</td>\n",
       "      <td>50.285714</td>\n",
       "      <td>1.114286</td>\n",
       "      <td>11180840.0</td>\n",
       "      <td>-56434.0</td>\n",
       "      <td>2.37</td>\n",
       "      <td>-0.06</td>\n",
       "      <td>51.072321</td>\n",
       "      <td>11211756.0</td>\n",
       "      <td>2.44</td>\n",
       "    </tr>\n",
       "  </tbody>\n",
       "</table>\n",
       "</div>"
      ],
      "text/plain": [
       "   year      GEO  per_hour_worked  per_employee  education  population  \\\n",
       "1  2011  Belgium             35.1       50593.5  47.857143    11000638   \n",
       "2  2012  Belgium             36.2       52178.2  48.242857    11075889   \n",
       "3  2013  Belgium             37.2       53452.5  49.242857    11137974   \n",
       "4  2014  Belgium             37.6       53965.2  50.285714    11180840   \n",
       "5  2015  Belgium             37.8       54043.8  49.171429    11237274   \n",
       "\n",
       "   rd_expenditure  education_shift_1  education_diff_1  population_shift_1  \\\n",
       "1            2.17          48.457143          0.600000          10839905.0   \n",
       "2            2.28          47.857143         -0.385714          11000638.0   \n",
       "3            2.33          48.242857         -1.000000          11075889.0   \n",
       "4            2.37          49.242857         -1.042857          11137974.0   \n",
       "5            2.43          50.285714          1.114286          11180840.0   \n",
       "\n",
       "   population_diff_1  rd_expenditure_shift_1  rd_expenditure_diff_1  \\\n",
       "1          -160733.0                    2.06                  -0.11   \n",
       "2           -75251.0                    2.17                  -0.11   \n",
       "3           -62085.0                    2.28                  -0.05   \n",
       "4           -42866.0                    2.33                  -0.04   \n",
       "5           -56434.0                    2.37                  -0.06   \n",
       "\n",
       "   education_mean  population_mean  rd_expenditure_mean  \n",
       "1       51.072321       11211756.0                 2.44  \n",
       "2       51.072321       11211756.0                 2.44  \n",
       "3       51.072321       11211756.0                 2.44  \n",
       "4       51.072321       11211756.0                 2.44  \n",
       "5       51.072321       11211756.0                 2.44  "
      ]
     },
     "execution_count": 16,
     "metadata": {},
     "output_type": "execute_result"
    }
   ],
   "source": [
    "for feature in features:\n",
    "    df[f'{feature}_mean'] = df.groupby(['GEO'])[feature].transform('mean')\n",
    "df.head()"
   ]
  },
  {
   "cell_type": "markdown",
   "metadata": {},
   "source": [
    "## Scale Features"
   ]
  },
  {
   "cell_type": "code",
   "execution_count": 17,
   "metadata": {},
   "outputs": [],
   "source": [
    "columns_to_fit = [\n",
    "    'education_mean',\n",
    "    'education_shift_1',\n",
    "    'education_diff_1',\n",
    "    'population_mean',\n",
    "    'population_shift_1',\n",
    "    'population_diff_1',\n",
    "    'rd_expenditure_mean',\n",
    "    'rd_expenditure_shift_1',\n",
    "    'rd_expenditure_diff_1',\n",
    "]\n",
    "for column in ['per_hour_worked', 'per_employee'] + columns_to_fit:\n",
    "    scaler = StandardScaler()\n",
    "    df[column] = scaler.fit_transform(df[[column]])"
   ]
  },
  {
   "cell_type": "markdown",
   "metadata": {},
   "source": [
    "## Check Correlation"
   ]
  },
  {
   "cell_type": "code",
   "execution_count": 18,
   "metadata": {},
   "outputs": [
    {
     "data": {
      "text/plain": [
       "<matplotlib.axes._subplots.AxesSubplot at 0x10b9aea10>"
      ]
     },
     "execution_count": 18,
     "metadata": {},
     "output_type": "execute_result"
    },
    {
     "data": {
      "image/png": "[encoded data removed]",
      "text/plain": [
       "<Figure size 648x576 with 2 Axes>"
      ]
     },
     "metadata": {
      "needs_background": "light"
     },
     "output_type": "display_data"
    }
   ],
   "source": [
    "corr = df[\n",
    "    ['per_hour_worked', 'per_employee'] + columns_to_fit\n",
    "].corr()\n",
    "\n",
    "plt.figure(figsize=(9,8))\n",
    "sns.heatmap(corr, annot=True, linewidths=0.2)"
   ]
  },
  {
   "cell_type": "code",
   "execution_count": 19,
   "metadata": {},
   "outputs": [],
   "source": [
    "df = df.dropna()"
   ]
  },
  {
   "cell_type": "markdown",
   "metadata": {},
   "source": [
    "## LinearRegression\n",
    "\n",
    "$$\n",
    "y = \\beta_0 + \\sum_{i=1}^{n} \\beta_i x_i\n",
    "$$"
   ]
  },
  {
   "cell_type": "code",
   "execution_count": 30,
   "metadata": {},
   "outputs": [
    {
     "data": {
      "text/plain": [
       "<matplotlib.axes._subplots.AxesSubplot at 0x130416590>"
      ]
     },
     "execution_count": 30,
     "metadata": {},
     "output_type": "execute_result"
    },
    {
     "data": {
      "image/png": "[encoded data removed]",
      "text/plain": [
       "<Figure size 432x288 with 1 Axes>"
      ]
     },
     "metadata": {
      "needs_background": "light"
     },
     "output_type": "display_data"
    }
   ],
   "source": [
    "from sklearn.linear_model import LinearRegression\n",
    "from sklearn.model_selection import KFold\n",
    "from sklearn.metrics import mean_squared_error\n",
    "\n",
    "def train(features):\n",
    "    x = df[features]\n",
    "    y = df[['per_hour_worked']]\n",
    "    score_on_train = []\n",
    "    score_on_test = []\n",
    "    kfold = KFold(n_splits=5, shuffle=True, random_state=42)\n",
    "    for train_index, test_index in kfold.split(x):\n",
    "        x_train, x_test = x.iloc[train_index], x.iloc[test_index]\n",
    "        y_train, y_test = y.iloc[train_index], y.iloc[test_index]\n",
    "        model = LinearRegression()\n",
    "        model.fit(x_train, y_train)\n",
    "        score_on_train.append(mean_squared_error(y_train, model.predict(x_train)))\n",
    "        score_on_test.append(mean_squared_error(y_test, model.predict(x_test)))\n",
    "\n",
    "    return np.mean(score_on_test)\n",
    "\n",
    "features = [\n",
    "    ['education_shift_1'],\n",
    "    ['population_shift_1'],\n",
    "    ['rd_expenditure_shift_1'],\n",
    "    ['education_shift_1', 'population_shift_1', 'rd_expenditure_shift_1'],\n",
    "    columns_to_fit\n",
    "]\n",
    "\n",
    "scores = []\n",
    "feature_names = []\n",
    "for fs in features:\n",
    "    scores.append(train(fs))\n",
    "    feature_name = ', '.join(fs)\n",
    "    if len(feature_name) > 80:\n",
    "        feature_name = feature_name[:80] + '...'\n",
    "    feature_names.append(feature_name)\n",
    "    \n",
    "result = pd.DataFrame({\n",
    "    'features': feature_names,\n",
    "    'score': scores\n",
    "}).sort_values(by='score')\n",
    "sns.barplot(data=result, x='score', y='features')"
   ]
  },
  {
   "cell_type": "markdown",
   "metadata": {},
   "source": [
    "## Visualize Feature Importance"
   ]
  },
  {
   "cell_type": "code",
   "execution_count": 21,
   "metadata": {},
   "outputs": [
    {
     "data": {
      "text/plain": [
       "<matplotlib.axes._subplots.AxesSubplot at 0x12e687390>"
      ]
     },
     "execution_count": 21,
     "metadata": {},
     "output_type": "execute_result"
    },
    {
     "data": {
      "image/png": "[encoded data removed]",
      "text/plain": [
       "<Figure size 432x288 with 1 Axes>"
      ]
     },
     "metadata": {
      "needs_background": "light"
     },
     "output_type": "display_data"
    }
   ],
   "source": [
    "x = df[columns_to_fit]\n",
    "y = df[['per_hour_worked']]\n",
    "\n",
    "model = LinearRegression()\n",
    "model.fit(x, y)\n",
    "\n",
    "result = pd.DataFrame({\n",
    "    'feature': columns_to_fit,\n",
    "    'coef': model.coef_[0]\n",
    "}).sort_values(by=['coef'], ascending=False)\n",
    "sns.barplot(data=result, y='feature', x='coef')"
   ]
  },
  {
   "cell_type": "markdown",
   "metadata": {},
   "source": [
    "## ExplainableBoostingRegressor (from InterpretML)\n",
    "\n",
    "EBM is a generalized additive model formalized as follows.\n",
    "\n",
    "$$\n",
    "g(E[y]) = \\beta_0 + \\sum f_j(x_j) + \\sum f_{ij}(x_i,x_j)\n",
    "$$\n",
    "\n",
    "EBM learns the best feature function $f_j$ for each feature to show how each feature contributes to the model's prediction for the problem. EBM can also automatically detect and include pairwise interaction terms.\n",
    "\n",
    "Paper: https://arxiv.org/pdf/1909.09223.pdf\n",
    "\n",
    "### Global Explanation"
   ]
  },
  {
   "cell_type": "code",
   "execution_count": 11,
   "metadata": {},
   "outputs": [
    {
     "data": {
      "text/html": [
       "<!-- http://127.0.0.1:7880/5027041360/ -->\n",
       "<iframe src=\"http://127.0.0.1:7880/5027041360/\" width=100% height=800 frameBorder=\"0\"></iframe>"
      ]
     },
     "metadata": {},
     "output_type": "display_data"
    }
   ],
   "source": [
    "from sklearn.model_selection import train_test_split\n",
    "import interpret\n",
    "from interpret.glassbox import ExplainableBoostingRegressor\n",
    "\n",
    "x_train, x_test, y_train, y_test = train_test_split(x, y, random_state=42)\n",
    "\n",
    "ebm = ExplainableBoostingRegressor(random_state=42)\n",
    "ebm.fit(x_train, y_train)\n",
    "\n",
    "ebm_global = ebm.explain_global(name='EBM')\n",
    "interpret.show(ebm_global)"
   ]
  },
  {
   "cell_type": "markdown",
   "metadata": {},
   "source": [
    "### Local Explanation"
   ]
  },
  {
   "cell_type": "code",
   "execution_count": 8,
   "metadata": {},
   "outputs": [
    {
     "data": {
      "text/html": [
       "<!-- http://127.0.0.1:7997/5045279632/ -->\n",
       "<iframe src=\"http://127.0.0.1:7997/5045279632/\" width=100% height=800 frameBorder=\"0\"></iframe>"
      ]
     },
     "metadata": {},
     "output_type": "display_data"
    }
   ],
   "source": [
    "ebm_local = ebm.explain_local(x_test[:5], y_test[:5], name='EBM')\n",
    "interpret.show(ebm_local)"
   ]
  },
  {
   "cell_type": "code",
   "execution_count": 9,
   "metadata": {},
   "outputs": [
    {
     "data": {
      "text/html": [
       "<!-- http://127.0.0.1:7997/5068892816/ -->\n",
       "<iframe src=\"http://127.0.0.1:7997/5068892816/\" width=100% height=800 frameBorder=\"0\"></iframe>"
      ]
     },
     "metadata": {},
     "output_type": "display_data"
    }
   ],
   "source": [
    "from interpret.glassbox import LinearRegression\n",
    "from interpret.perf import RegressionPerf\n",
    "\n",
    "ebm_perf = RegressionPerf(ebm.predict).explain_perf(x_test, y_test, name='Linear Regression')\n",
    "interpret.show(ebm_perf)"
   ]
  },
  {
   "cell_type": "code",
   "execution_count": null,
   "metadata": {},
   "outputs": [],
   "source": []
  }
 ],
 "metadata": {
  "kernelspec": {
   "display_name": "Python 3",
   "language": "python",
   "name": "python3"
  },
  "language_info": {
   "codemirror_mode": {
    "name": "ipython",
    "version": 3
   },
   "file_extension": ".py",
   "mimetype": "text/x-python",
   "name": "python",
   "nbconvert_exporter": "python",
   "pygments_lexer": "ipython3",
   "version": "3.7.5"
  }
 },
 "nbformat": 4,
 "nbformat_minor": 4
}
